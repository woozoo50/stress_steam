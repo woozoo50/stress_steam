{
 "cells": [
  {
   "cell_type": "code",
   "execution_count": 15,
   "id": "9cca4770-63e0-4c21-a869-7c3f622b409f",
   "metadata": {},
   "outputs": [
    {
     "ename": "FileNotFoundError",
     "evalue": "[Errno 2] No such file or directory: 'team_data/bongsa.csv'",
     "output_type": "error",
     "traceback": [
      "\u001b[1;31m---------------------------------------------------------------------------\u001b[0m",
      "\u001b[1;31mFileNotFoundError\u001b[0m                         Traceback (most recent call last)",
      "Cell \u001b[1;32mIn[15], line 7\u001b[0m\n\u001b[0;32m      4\u001b[0m stress_list \u001b[38;5;241m=\u001b[39m []\n\u001b[0;32m      6\u001b[0m \u001b[38;5;66;03m# 경제활동.csv 파일 처리\u001b[39;00m\n\u001b[1;32m----> 7\u001b[0m \u001b[38;5;28;01mwith\u001b[39;00m \u001b[38;5;28mopen\u001b[39m(\u001b[38;5;124m\"\u001b[39m\u001b[38;5;124mteam_data/bongsa.csv\u001b[39m\u001b[38;5;124m\"\u001b[39m, encoding\u001b[38;5;241m=\u001b[39m\u001b[38;5;124m'\u001b[39m\u001b[38;5;124mANSI\u001b[39m\u001b[38;5;124m'\u001b[39m) \u001b[38;5;28;01mas\u001b[39;00m f:\n\u001b[0;32m      8\u001b[0m     data \u001b[38;5;241m=\u001b[39m csv\u001b[38;5;241m.\u001b[39mreader(f)\n\u001b[0;32m      9\u001b[0m     data \u001b[38;5;241m=\u001b[39m \u001b[38;5;28mlist\u001b[39m(data)\n",
      "File \u001b[1;32m~\\anaconda3\\Lib\\site-packages\\IPython\\core\\interactiveshell.py:310\u001b[0m, in \u001b[0;36m_modified_open\u001b[1;34m(file, *args, **kwargs)\u001b[0m\n\u001b[0;32m    303\u001b[0m \u001b[38;5;28;01mif\u001b[39;00m file \u001b[38;5;129;01min\u001b[39;00m {\u001b[38;5;241m0\u001b[39m, \u001b[38;5;241m1\u001b[39m, \u001b[38;5;241m2\u001b[39m}:\n\u001b[0;32m    304\u001b[0m     \u001b[38;5;28;01mraise\u001b[39;00m \u001b[38;5;167;01mValueError\u001b[39;00m(\n\u001b[0;32m    305\u001b[0m         \u001b[38;5;124mf\u001b[39m\u001b[38;5;124m\"\u001b[39m\u001b[38;5;124mIPython won\u001b[39m\u001b[38;5;124m'\u001b[39m\u001b[38;5;124mt let you open fd=\u001b[39m\u001b[38;5;132;01m{\u001b[39;00mfile\u001b[38;5;132;01m}\u001b[39;00m\u001b[38;5;124m by default \u001b[39m\u001b[38;5;124m\"\u001b[39m\n\u001b[0;32m    306\u001b[0m         \u001b[38;5;124m\"\u001b[39m\u001b[38;5;124mas it is likely to crash IPython. If you know what you are doing, \u001b[39m\u001b[38;5;124m\"\u001b[39m\n\u001b[0;32m    307\u001b[0m         \u001b[38;5;124m\"\u001b[39m\u001b[38;5;124myou can use builtins\u001b[39m\u001b[38;5;124m'\u001b[39m\u001b[38;5;124m open.\u001b[39m\u001b[38;5;124m\"\u001b[39m\n\u001b[0;32m    308\u001b[0m     )\n\u001b[1;32m--> 310\u001b[0m \u001b[38;5;28;01mreturn\u001b[39;00m io_open(file, \u001b[38;5;241m*\u001b[39margs, \u001b[38;5;241m*\u001b[39m\u001b[38;5;241m*\u001b[39mkwargs)\n",
      "\u001b[1;31mFileNotFoundError\u001b[0m: [Errno 2] No such file or directory: 'team_data/bongsa.csv'"
     ]
    }
   ],
   "source": [
    "import csv\n",
    "\n",
    "crime_list = []\n",
    "stress_list = []\n",
    "\n",
    "# 경제활동.csv 파일 처리\n",
    "with open(\"team_data/bongsa.csv\", encoding='ANSI') as f:\n",
    "    data = csv.reader(f)\n",
    "    data = list(data)\n",
    "    for i in data:\n",
    "        for z in i[2:]:\n",
    "            if z == '-':\n",
    "                crime_list.append(0.0)  # '-'를 0.0으로 대체\n",
    "            else:\n",
    "                try:\n",
    "                    crime_list.append(float(z))\n",
    "                except ValueError:\n",
    "                    print(f\"변환 불가 값 (crime_list): {z}\")  # 변환 불가한 값을 출력해 확인\n",
    "                    continue\n",
    "            \n",
    "    print(\"crime_list:\", crime_list)\n",
    "\n",
    "# stress1.csv 파일 처리\n",
    "with open('team_data/stress1.csv', encoding='utf-8') as f2:\n",
    "    data = csv.reader(f2)\n",
    "    next(data)\n",
    "    data = list(data)\n",
    "    for i in data:\n",
    "        for z in i[1:-1]:\n",
    "            try:\n",
    "                stress_list.append(float(z))\n",
    "            except ValueError:\n",
    "                print(f\"변환 불가 값 (stress_list): {z}\")  # 변환 불가한 값을 출력해 확인\n",
    "                continue\n",
    "            \n",
    "    print(\"stress_list:\", stress_list)\n"
   ]
  },
  {
   "cell_type": "code",
   "execution_count": null,
   "id": "ebd0d130-ac91-49ed-bae2-aecd67273ae5",
   "metadata": {},
   "outputs": [],
   "source": [
    "import pandas as pd\n",
    "import numpy as np\n",
    "\n",
    "# 두 리스트의 길이 확인\n",
    "print(f\"Length of crime_list: {len(crime_list)}\")\n",
    "print(f\"Length of stress_list: {len(stress_list)}\")\n",
    "\n",
    "# 두 리스트의 길이를 맞추기 위해 NaN 값 추가\n",
    "if len(crime_list) > len(stress_list):\n",
    "    stress_list.extend([np.nan] * (len(crime_list) - len(stress_list)))\n",
    "elif len(stress_list) > len(crime_list):\n",
    "    crime_list.extend([np.nan] * (len(stress_list) - len(crime_list)))\n",
    "df = pd.DataFrame()\n",
    "df = pd.DataFrame()\n",
    "df['고혈압'] = crime_list\n",
    "df['스트레스'] = stress_list\n",
    "\n",
    "df"
   ]
  },
  {
   "cell_type": "code",
   "execution_count": null,
   "id": "fe766d57-f971-44f6-aab8-feb2312d3ea1",
   "metadata": {},
   "outputs": [],
   "source": [
    "from matplotlib import pyplot as plt\n",
    "#%matplotlib inline \n",
    "# notebook을 실행한 브라우저에서 바로 그래프를 볼 수 있게 하는 기능\n",
    "\n",
    "plt.rc('font', family='Malgun Gothic')\n",
    "plt.scatter(df['스트레스'], df['고혈압']) \n",
    "plt.show() #그래프 표시\n"
   ]
  },
  {
   "cell_type": "code",
   "execution_count": null,
   "id": "efa801ea-def6-46dd-a9c8-98087d41c207",
   "metadata": {},
   "outputs": [],
   "source": [
    "correlation = df.corr()\n",
    "print(correlation)"
   ]
  },
  {
   "cell_type": "code",
   "execution_count": null,
   "id": "ff36f133-1ab0-4584-b11f-f070f037cdf7",
   "metadata": {},
   "outputs": [],
   "source": [
    "import matplotlib.pyplot as plt\n",
    "import seaborn as sns\n",
    "\n",
    "plt.rc('font', family='Malgun Gothic')\n",
    "sns.lmplot(x='스트레스', y='고혈압', data=df, height=6, aspect=2)\n",
    "plt.suptitle('고혈압과 스트레스 수준 간의 관계', y=1.02)\n",
    "plt.show()"
   ]
  }
 ],
 "metadata": {
  "kernelspec": {
   "display_name": "Python 3 (ipykernel)",
   "language": "python",
   "name": "python3"
  },
  "language_info": {
   "codemirror_mode": {
    "name": "ipython",
    "version": 3
   },
   "file_extension": ".py",
   "mimetype": "text/x-python",
   "name": "python",
   "nbconvert_exporter": "python",
   "pygments_lexer": "ipython3",
   "version": "3.11.7"
  }
 },
 "nbformat": 4,
 "nbformat_minor": 5
}
